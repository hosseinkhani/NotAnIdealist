{
 "cells": [
  {
   "cell_type": "code",
   "execution_count": null,
   "metadata": {},
   "outputs": [],
   "source": []
  },
  {
   "cell_type": "markdown",
   "metadata": {},
   "source": [
    "# \"Not An Idealist\"\n",
    "> spoiler alert. I am.\n",
    "\n",
    "- toc: true \n",
    "- badges: true\n",
    "- comments: true\n",
    "- categories: [just me]"
   ]
  },
  {
   "cell_type": "markdown",
   "metadata": {},
   "source": [
    "> *“At twenty, if you are not an idealist, then you don't have a heart. And if you continue being an idealist at forty, then you don't have a brain.”*\n",
    "\n",
    "― Sudha Murty, House of Cards"
   ]
  },
  {
   "cell_type": "markdown",
   "metadata": {},
   "source": [
    "As my master degree superviser always adviced I should write my ideas on the paper because not only it makes it easy to remember them, but also it makes my thoughts ordered. Wrting was an unpleasent thing to me, and I always wondered why I'm always running away from it. At some point sombody told me this is one of the implications of being an idealist because these people are scared of doing something wrong or having the chance to be wrong. (Even knowing a person is almost wrong in his whole life I did'nt like to be wrong at all) Actually I do'nt do anything which I'm not good at. I spent lots of time on Dota and most of it is whatching pros playing game, and maybe the cause is I'm a mediocre player at my best, so as an idealist I do not give chance to emmbaress my self by playing and making bad decisions in game.\n",
    "After playing around fast.ai and watchig some of their tutorials the instructors just convinced me that having a belog can be really helpfull for my career as a data scientist. After several days I came to understanding that such a blog can help me to not be a radikal idealist. (I do'nt believe some personality like being idealist is **BAD**. It's just not wise to be an idealist in all situations and environments)"
   ]
  },
  {
   "cell_type": "markdown",
   "metadata": {},
   "source": []
  }
 ],
 "metadata": {
  "kernelspec": {
   "display_name": "Python 3",
   "language": "python",
   "name": "python3"
  },
  "language_info": {
   "codemirror_mode": {
    "name": "ipython",
    "version": 3
   },
   "file_extension": ".py",
   "mimetype": "text/x-python",
   "name": "python",
   "nbconvert_exporter": "python",
   "pygments_lexer": "ipython3",
   "version": "3.8.5"
  }
 },
 "nbformat": 4,
 "nbformat_minor": 4
}
