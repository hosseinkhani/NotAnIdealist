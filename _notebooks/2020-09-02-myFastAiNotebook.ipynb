{
 "cells": [
  {
   "cell_type": "markdown",
   "metadata": {},
   "source": [
    "# \"FastAI book\"\n",
    "> some ideas and thoughts to dive in later.\n",
    "\n",
    "- toc: true \n",
    "- badges: false\n",
    "- comments: true\n",
    "- categories: [AI]"
   ]
  },
  {
   "cell_type": "markdown",
   "metadata": {},
   "source": [
    "1. chapter1:\n",
    "    - Enlitic company?\n",
    "    - The basic idea is to teach the whole game.\n",
    "    - [must read](https://arxiv.org/abs/1511.06434)\n",
    "    - Most of the time, however, picking an architecture isn't a very important part of the deep learning process. It's something that academics love to talk about, but in practice it is unlikely to be something you need to spend much time on.\n",
    "    - \n",
    "2. chapter2:\n",
    "\n",
    "3. chapter3:\n",
    "- feedbackloops: explor/exploit in ml :-?\n",
    "- baselines: nice idea\n",
    "- funny ipy widgets\n",
    "\n",
    "- My idea: nlp which convert meanings to better sentences\n",
    "\tthat means it if i write some bulshit it converts it to a better sentence\n",
    "\n",
    "4. chapter4:\n",
    "- negative log likelihood o softmax o crossentropy ...\n",
    "\n",
    "5. chapter5:\n",
    " - didnt attend\n",
    "\n",
    "6. chapter6:\n",
    " - lr_find\n",
    " - fit_one_cycle vs fit\n",
    " - \n",
    "\n",
    "7. chapter7:\n",
    " - in embedin neurals we are using sgd on inputs not weights? wtf\n",
    "\n",
    "8. chapter8:\n",
    " - paper: uda data augmentation\n",
    " - paper: what you never wanted to know about floating point ....\n",
    "  * numbers near 0 are good\n",
    " - class: activaitonstats for monitoring :-?\n",
    " - \n"
   ]
  },
  {
   "cell_type": "code",
   "execution_count": null,
   "metadata": {},
   "outputs": [],
   "source": []
  }
 ],
 "metadata": {
  "kernelspec": {
   "display_name": "Python 3",
   "language": "python",
   "name": "python3"
  },
  "language_info": {
   "codemirror_mode": {
    "name": "ipython",
    "version": 3
   },
   "file_extension": ".py",
   "mimetype": "text/x-python",
   "name": "python",
   "nbconvert_exporter": "python",
   "pygments_lexer": "ipython3",
   "version": "3.8.5"
  }
 },
 "nbformat": 4,
 "nbformat_minor": 4
}
