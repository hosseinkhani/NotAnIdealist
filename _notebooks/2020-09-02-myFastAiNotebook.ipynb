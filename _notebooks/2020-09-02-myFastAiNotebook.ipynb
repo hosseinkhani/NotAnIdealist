{
 "cells": [
  {
   "cell_type": "markdown",
   "metadata": {},
   "source": [
    "# \"FastAI book\"\n",
    "> some ideas and things to dive in later.\n",
    "\n",
    "- toc: true \n",
    "- badges: false\n",
    "- comments: true\n",
    "- categories: [AI]"
   ]
  },
  {
   "cell_type": "markdown",
   "metadata": {},
   "source": [
    "\n",
    "3. chapter3:\n",
    "- feedbackloops: explor/exploit in ml :-?\n",
    "- baselines: nice idea\n",
    "- funny ipy widgets\n",
    "\n",
    "- My idea: nlp which convert meanings to better sentences\n",
    "\tthat means it if i write some bulshit it converts it to a better sentence\n",
    "\n",
    "4. chapter4:\n",
    "- negative log likelihood o softmax o crossentropy ...\n",
    "\n",
    "5. chapter5:\n",
    " - didnt attend\n",
    "\n",
    "6. chapter6:\n",
    " - lr_find\n",
    " - fit_one_cycle vs fit\n",
    " - \n",
    "\n",
    "\n"
   ]
  }
 ],
 "metadata": {
  "kernelspec": {
   "display_name": "Python 3",
   "language": "python",
   "name": "python3"
  },
  "language_info": {
   "codemirror_mode": {
    "name": "ipython",
    "version": 3
   },
   "file_extension": ".py",
   "mimetype": "text/x-python",
   "name": "python",
   "nbconvert_exporter": "python",
   "pygments_lexer": "ipython3",
   "version": "3.8.5"
  }
 },
 "nbformat": 4,
 "nbformat_minor": 4
}
